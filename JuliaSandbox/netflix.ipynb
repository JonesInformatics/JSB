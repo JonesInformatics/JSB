{
 "cells": [
  {
   "cell_type": "code",
   "execution_count": 1,
   "id": "29b5d1a9-c082-454b-b2ae-72f0b31e4136",
   "metadata": {},
   "outputs": [],
   "source": [
    "using CSV\n",
    "using DataFrames"
   ]
  },
  {
   "cell_type": "code",
   "execution_count": 3,
   "id": "b7d3fb42-290b-4e36-9b41-dfabcbe40427",
   "metadata": {},
   "outputs": [
    {
     "ename": "LoadError",
     "evalue": "ArgumentError: syntax df[column] is not supported use df[!, column] instead",
     "output_type": "error",
     "traceback": [
      "ArgumentError: syntax df[column] is not supported use df[!, column] instead",
      "",
      "Stacktrace:",
      " [1] getindex(#unused#::DataFrame, #unused#::Symbol)",
      "   @ DataFrames C:\\Users\\ejones\\.julia\\packages\\DataFrames\\zqFGs\\src\\abstractdataframe\\abstractdataframe.jl:2257",
      " [2] load()",
      "   @ Main .\\In[3]:3",
      " [3] top-level scope",
      "   @ In[3]:5",
      " [4] eval",
      "   @ .\\boot.jl:360 [inlined]",
      " [5] include_string(mapexpr::typeof(REPL.softscope), mod::Module, code::String, filename::String)",
      "   @ Base .\\loading.jl:1116"
     ]
    }
   ],
   "source": [
    "function load()\n",
    "    df = CSV.File(\"netflix.csv\") |> DataFrame\n",
    "    df[:df]\n",
    "end\n",
    "load()"
   ]
  },
  {
   "cell_type": "code",
   "execution_count": null,
   "id": "032dc96c-9266-4fa0-be50-539bfb50faac",
   "metadata": {},
   "outputs": [],
   "source": []
  }
 ],
 "metadata": {
  "kernelspec": {
   "display_name": "Julia 1.6.6",
   "language": "julia",
   "name": "julia-1.6"
  },
  "language_info": {
   "file_extension": ".jl",
   "mimetype": "application/julia",
   "name": "julia",
   "version": "1.6.6"
  }
 },
 "nbformat": 4,
 "nbformat_minor": 5
}
