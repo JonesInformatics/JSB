{
 "cells": [
  {
   "cell_type": "code",
   "execution_count": 2,
   "id": "c076035e-c058-46f4-a666-ab5c61fb8756",
   "metadata": {},
   "outputs": [
    {
     "data": {
      "text/plain": [
       "grades_array (generic function with 1 method)"
      ]
     },
     "metadata": {},
     "output_type": "display_data"
    }
   ],
   "source": [
    "function grades_array()\n",
    "    name = [\"Bob\", \"Sally\", \"Alice\", \"Hank\"]\n",
    "    age = [17, 18, 20, 19]\n",
    "    grade_2020 = [5.0, 1.0, 8.5, 4.0]\n",
    "    (; name, age, grade_2020)\n",
    "end"
   ]
  },
  {
   "cell_type": "code",
   "execution_count": null,
   "id": "f97626ad-4d8a-40b0-9e45-3b559b4f9574",
   "metadata": {},
   "outputs": [],
   "source": []
  },
  {
   "cell_type": "code",
   "execution_count": null,
   "id": "e63025c9-de41-421e-a298-2bec8d027338",
   "metadata": {},
   "outputs": [],
   "source": []
  },
  {
   "cell_type": "code",
   "execution_count": 3,
   "id": "58b2466b-de89-45fb-8d72-b4144c47fe2e",
   "metadata": {},
   "outputs": [
    {
     "data": {
      "text/plain": [
       "(name = [\"Bob\", \"Sally\", \"Alice\", \"Hank\"], age = [17, 18, 20, 19], grade_2020 = [5.0, 1.0, 8.5, 4.0])"
      ]
     },
     "metadata": {},
     "output_type": "display_data"
    }
   ],
   "source": [
    "grades_array()"
   ]
  },
  {
   "cell_type": "code",
   "execution_count": 4,
   "id": "5168df6c-c90b-4dd0-9c0e-131a66718ac8",
   "metadata": {},
   "outputs": [],
   "source": [
    "using DataFrames"
   ]
  },
  {
   "cell_type": "code",
   "execution_count": 5,
   "id": "697ecfc3-2d2b-4c05-b647-ca9f80942836",
   "metadata": {},
   "outputs": [
    {
     "data": {
      "text/html": [
       "<div class=\"data-frame\"><p>4 rows × 2 columns</p><table class=\"data-frame\"><thead><tr><th></th><th>name</th><th>grade_2020</th></tr><tr><th></th><th title=\"String\">String</th><th title=\"Float64\">Float64</th></tr></thead><tbody><tr><th>1</th><td>Sally</td><td>1.0</td></tr><tr><th>2</th><td>Bob</td><td>5.0</td></tr><tr><th>3</th><td>Alice</td><td>8.5</td></tr><tr><th>4</th><td>Hank</td><td>4.0</td></tr></tbody></table></div>"
      ],
      "text/latex": [
       "\\begin{tabular}{r|cc}\n",
       "\t& name & grade\\_2020\\\\\n",
       "\t\\hline\n",
       "\t& String & Float64\\\\\n",
       "\t\\hline\n",
       "\t1 & Sally & 1.0 \\\\\n",
       "\t2 & Bob & 5.0 \\\\\n",
       "\t3 & Alice & 8.5 \\\\\n",
       "\t4 & Hank & 4.0 \\\\\n",
       "\\end{tabular}\n"
      ],
      "text/plain": [
       "\u001b[1m4×2 DataFrame\u001b[0m\n",
       "\u001b[1m Row \u001b[0m│\u001b[1m name   \u001b[0m\u001b[1m grade_2020 \u001b[0m\n",
       "\u001b[1m     \u001b[0m│\u001b[90m String \u001b[0m\u001b[90m Float64    \u001b[0m\n",
       "─────┼────────────────────\n",
       "   1 │ Sally          1.0\n",
       "   2 │ Bob            5.0\n",
       "   3 │ Alice          8.5\n",
       "   4 │ Hank           4.0"
      ]
     },
     "metadata": {},
     "output_type": "display_data"
    }
   ],
   "source": [
    "names = [\"Sally\", \"Bob\", \"Alice\", \"Hank\"]\n",
    "grades = [1, 5, 8.5, 4]\n",
    "df = DataFrame(; name=names, grade_2020=grades)"
   ]
  },
  {
   "cell_type": "code",
   "execution_count": 6,
   "id": "d9e09efb-7647-4f59-9739-1c118afadd6b",
   "metadata": {},
   "outputs": [
    {
     "data": {
      "text/html": [
       "<div class=\"data-frame\"><p>4 rows × 2 columns</p><table class=\"data-frame\"><thead><tr><th></th><th>name</th><th>grade_2020</th></tr><tr><th></th><th title=\"String\">String</th><th title=\"Float64\">Float64</th></tr></thead><tbody><tr><th>1</th><td>Sally</td><td>1.0</td></tr><tr><th>2</th><td>Bob</td><td>5.0</td></tr><tr><th>3</th><td>Alice</td><td>8.5</td></tr><tr><th>4</th><td>Hank</td><td>4.0</td></tr></tbody></table></div>"
      ],
      "text/latex": [
       "\\begin{tabular}{r|cc}\n",
       "\t& name & grade\\_2020\\\\\n",
       "\t\\hline\n",
       "\t& String & Float64\\\\\n",
       "\t\\hline\n",
       "\t1 & Sally & 1.0 \\\\\n",
       "\t2 & Bob & 5.0 \\\\\n",
       "\t3 & Alice & 8.5 \\\\\n",
       "\t4 & Hank & 4.0 \\\\\n",
       "\\end{tabular}\n"
      ],
      "text/plain": [
       "\u001b[1m4×2 DataFrame\u001b[0m\n",
       "\u001b[1m Row \u001b[0m│\u001b[1m name   \u001b[0m\u001b[1m grade_2020 \u001b[0m\n",
       "\u001b[1m     \u001b[0m│\u001b[90m String \u001b[0m\u001b[90m Float64    \u001b[0m\n",
       "─────┼────────────────────\n",
       "   1 │ Sally          1.0\n",
       "   2 │ Bob            5.0\n",
       "   3 │ Alice          8.5\n",
       "   4 │ Hank           4.0"
      ]
     },
     "metadata": {},
     "output_type": "display_data"
    }
   ],
   "source": [
    "function grades_2020()\n",
    "    name = [\"Sally\", \"Bob\", \"Alice\", \"Hank\"]\n",
    "    grade_2020 = [1, 5, 8.5, 4]\n",
    "    DataFrame(; name, grade_2020)\n",
    "end\n",
    "grades_2020()\n",
    "\n",
    "df"
   ]
  },
  {
   "cell_type": "code",
   "execution_count": 7,
   "id": "8303999e-68c4-48e9-9a7a-7fecd51ce2e9",
   "metadata": {},
   "outputs": [
    {
     "data": {
      "text/html": [
       "<div class=\"data-frame\"><p>1 rows × 2 columns</p><table class=\"data-frame\"><thead><tr><th></th><th>name</th><th>grade_2020</th></tr><tr><th></th><th title=\"String\">String</th><th title=\"String\">String</th></tr></thead><tbody><tr><th>1</th><td>Malice</td><td>10</td></tr></tbody></table></div>"
      ],
      "text/latex": [
       "\\begin{tabular}{r|cc}\n",
       "\t& name & grade\\_2020\\\\\n",
       "\t\\hline\n",
       "\t& String & String\\\\\n",
       "\t\\hline\n",
       "\t1 & Malice & 10 \\\\\n",
       "\\end{tabular}\n"
      ],
      "text/plain": [
       "\u001b[1m1×2 DataFrame\u001b[0m\n",
       "\u001b[1m Row \u001b[0m│\u001b[1m name   \u001b[0m\u001b[1m grade_2020 \u001b[0m\n",
       "\u001b[1m     \u001b[0m│\u001b[90m String \u001b[0m\u001b[90m String     \u001b[0m\n",
       "─────┼────────────────────\n",
       "   1 │ Malice  10"
      ]
     },
     "metadata": {},
     "output_type": "display_data"
    }
   ],
   "source": [
    "df = DataFrame(name = [\"Malice\"], grade_2020 = [\"10\"])"
   ]
  },
  {
   "cell_type": "code",
   "execution_count": 8,
   "id": "63bc81c3-b3e3-49ce-9aa7-94380704cd0a",
   "metadata": {},
   "outputs": [
    {
     "data": {
      "text/html": [
       "<div class=\"data-frame\"><p>4 rows × 2 columns</p><table class=\"data-frame\"><thead><tr><th></th><th>name</th><th>grade_2020</th></tr><tr><th></th><th title=\"String\">String</th><th title=\"Float64\">Float64</th></tr></thead><tbody><tr><th>1</th><td>Sally</td><td>1.0</td></tr><tr><th>2</th><td>Bob</td><td>5.0</td></tr><tr><th>3</th><td>Alice</td><td>8.5</td></tr><tr><th>4</th><td>Hank</td><td>4.0</td></tr></tbody></table></div>"
      ],
      "text/latex": [
       "\\begin{tabular}{r|cc}\n",
       "\t& name & grade\\_2020\\\\\n",
       "\t\\hline\n",
       "\t& String & Float64\\\\\n",
       "\t\\hline\n",
       "\t1 & Sally & 1.0 \\\\\n",
       "\t2 & Bob & 5.0 \\\\\n",
       "\t3 & Alice & 8.5 \\\\\n",
       "\t4 & Hank & 4.0 \\\\\n",
       "\\end{tabular}\n"
      ],
      "text/plain": [
       "\u001b[1m4×2 DataFrame\u001b[0m\n",
       "\u001b[1m Row \u001b[0m│\u001b[1m name   \u001b[0m\u001b[1m grade_2020 \u001b[0m\n",
       "\u001b[1m     \u001b[0m│\u001b[90m String \u001b[0m\u001b[90m Float64    \u001b[0m\n",
       "─────┼────────────────────\n",
       "   1 │ Sally          1.0\n",
       "   2 │ Bob            5.0\n",
       "   3 │ Alice          8.5\n",
       "   4 │ Hank           4.0"
      ]
     },
     "metadata": {},
     "output_type": "display_data"
    }
   ],
   "source": [
    "df = grades_2020()"
   ]
  },
  {
   "cell_type": "code",
   "execution_count": 9,
   "id": "00519df0-40d8-4cd7-a563-49897b2d6fd0",
   "metadata": {},
   "outputs": [
    {
     "data": {
      "text/html": [
       "<div class=\"data-frame\"><p>3 rows × 2 columns</p><table class=\"data-frame\"><thead><tr><th></th><th>σ</th><th>δ</th></tr><tr><th></th><th title=\"String\">String</th><th title=\"Float64\">Float64</th></tr></thead><tbody><tr><th>1</th><td>a</td><td>3.14159</td></tr><tr><th>2</th><td>a</td><td>1.5708</td></tr><tr><th>3</th><td>a</td><td>1.0472</td></tr></tbody></table></div>"
      ],
      "text/latex": [
       "\\begin{tabular}{r|cc}\n",
       "\t& σ & δ\\\\\n",
       "\t\\hline\n",
       "\t& String & Float64\\\\\n",
       "\t\\hline\n",
       "\t1 & a & 3.14159 \\\\\n",
       "\t2 & a & 1.5708 \\\\\n",
       "\t3 & a & 1.0472 \\\\\n",
       "\\end{tabular}\n"
      ],
      "text/plain": [
       "\u001b[1m3×2 DataFrame\u001b[0m\n",
       "\u001b[1m Row \u001b[0m│\u001b[1m σ      \u001b[0m\u001b[1m δ       \u001b[0m\n",
       "\u001b[1m     \u001b[0m│\u001b[90m String \u001b[0m\u001b[90m Float64 \u001b[0m\n",
       "─────┼─────────────────\n",
       "   1 │ a       3.14159\n",
       "   2 │ a       1.5708\n",
       "   3 │ a       1.0472"
      ]
     },
     "metadata": {},
     "output_type": "display_data"
    }
   ],
   "source": [
    "DataFrame(σ = [\"a\", \"a\", \"a\"], δ = [π, π/2, π/3])"
   ]
  },
  {
   "cell_type": "code",
   "execution_count": 10,
   "id": "4fed6767-d90c-4458-9e39-f64a2d348403",
   "metadata": {},
   "outputs": [
    {
     "data": {
      "text/html": [
       "<div class=\"data-frame\"><p>1 rows × 2 columns</p><table class=\"data-frame\"><thead><tr><th></th><th>name</th><th>grade_2020</th></tr><tr><th></th><th title=\"String\">String</th><th title=\"Float64\">Float64</th></tr></thead><tbody><tr><th>1</th><td>Bob</td><td>5.0</td></tr></tbody></table></div>"
      ],
      "text/latex": [
       "\\begin{tabular}{r|cc}\n",
       "\t& name & grade\\_2020\\\\\n",
       "\t\\hline\n",
       "\t& String & Float64\\\\\n",
       "\t\\hline\n",
       "\t1 & Bob & 5.0 \\\\\n",
       "\\end{tabular}\n"
      ],
      "text/plain": [
       "\u001b[1m1×2 DataFrame\u001b[0m\n",
       "\u001b[1m Row \u001b[0m│\u001b[1m name   \u001b[0m\u001b[1m grade_2020 \u001b[0m\n",
       "\u001b[1m     \u001b[0m│\u001b[90m String \u001b[0m\u001b[90m Float64    \u001b[0m\n",
       "─────┼────────────────────\n",
       "   1 │ Bob            5.0"
      ]
     },
     "metadata": {},
     "output_type": "display_data"
    }
   ],
   "source": [
    "function grades_2020(names::Vector{Int})\n",
    "    df = grades_2020()\n",
    "    df[names, :]\n",
    "end\n",
    "grades_2020([2])"
   ]
  },
  {
   "cell_type": "code",
   "execution_count": 41,
   "id": "5f9ea56f-2cfa-40a2-9ece-aa13eeaffe35",
   "metadata": {},
   "outputs": [
    {
     "data": {
      "text/html": [
       "<div class=\"data-frame\"><p>7 rows × 4 columns</p><table class=\"data-frame\"><thead><tr><th></th><th>names</th><th>ages</th><th>adult</th><th>state</th></tr><tr><th></th><th title=\"String\">String</th><th title=\"Int64\">Int64</th><th title=\"Int64\">Int64</th><th title=\"String\">String</th></tr></thead><tbody><tr><th>1</th><td>Liz</td><td>44</td><td>1</td><td>MN</td></tr><tr><th>2</th><td>Mol</td><td>47</td><td>1</td><td>MN</td></tr><tr><th>3</th><td>Asia</td><td>12</td><td>0</td><td>UT</td></tr><tr><th>4</th><td>Ben</td><td>43</td><td>1</td><td>MA</td></tr><tr><th>5</th><td>Alice</td><td>7</td><td>0</td><td>MN</td></tr><tr><th>6</th><td>Melissa</td><td>44</td><td>1</td><td>UT</td></tr><tr><th>7</th><td>Peg</td><td>73</td><td>1</td><td>CO</td></tr></tbody></table></div>"
      ],
      "text/latex": [
       "\\begin{tabular}{r|cccc}\n",
       "\t& names & ages & adult & state\\\\\n",
       "\t\\hline\n",
       "\t& String & Int64 & Int64 & String\\\\\n",
       "\t\\hline\n",
       "\t1 & Liz & 44 & 1 & MN \\\\\n",
       "\t2 & Mol & 47 & 1 & MN \\\\\n",
       "\t3 & Asia & 12 & 0 & UT \\\\\n",
       "\t4 & Ben & 43 & 1 & MA \\\\\n",
       "\t5 & Alice & 7 & 0 & MN \\\\\n",
       "\t6 & Melissa & 44 & 1 & UT \\\\\n",
       "\t7 & Peg & 73 & 1 & CO \\\\\n",
       "\\end{tabular}\n"
      ],
      "text/plain": [
       "\u001b[1m7×4 DataFrame\u001b[0m\n",
       "\u001b[1m Row \u001b[0m│\u001b[1m names   \u001b[0m\u001b[1m ages  \u001b[0m\u001b[1m adult \u001b[0m\u001b[1m state  \u001b[0m\n",
       "\u001b[1m     \u001b[0m│\u001b[90m String  \u001b[0m\u001b[90m Int64 \u001b[0m\u001b[90m Int64 \u001b[0m\u001b[90m String \u001b[0m\n",
       "─────┼───────────────────────────────\n",
       "   1 │ Liz         44      1  MN\n",
       "   2 │ Mol         47      1  MN\n",
       "   3 │ Asia        12      0  UT\n",
       "   4 │ Ben         43      1  MA\n",
       "   5 │ Alice        7      0  MN\n",
       "   6 │ Melissa     44      1  UT\n",
       "   7 │ Peg         73      1  CO"
      ]
     },
     "metadata": {},
     "output_type": "display_data"
    }
   ],
   "source": [
    "function names_ages()\n",
    "    names = [\"Liz\",\"Mol\",\"Asia\",\"Ben\",\"Alice\",\"Melissa\",\"Peg\"]\n",
    "    ages = [44,47,12,43,7,44,73]\n",
    "    adult = [1,1,0,1,0,1,1]\n",
    "    state = [\"MN\",\"MN\",\"UT\",\"MA\",\"MN\",\"UT\",\"CO\"]\n",
    "    DataFrame(;names,ages,adult,state)\n",
    "end\n",
    "names_ages()"
   ]
  },
  {
   "cell_type": "code",
   "execution_count": 12,
   "id": "56dd09e8-7324-4eb6-b012-2df8ee79cb10",
   "metadata": {},
   "outputs": [],
   "source": [
    "#function names_age(ages::Vector{Int})\n",
    "    #df = names_ages()\n",
    "    #df[ages, :]\n",
    "#end\n",
    "\n",
    "#names_age([3])"
   ]
  },
  {
   "cell_type": "code",
   "execution_count": 12,
   "id": "0a31ca46-0b28-40c9-a895-27535c59ea91",
   "metadata": {},
   "outputs": [],
   "source": [
    "using CSV"
   ]
  },
  {
   "cell_type": "code",
   "execution_count": 42,
   "id": "b5a6f5a9-dd4d-47d2-9664-48f66d09e02a",
   "metadata": {},
   "outputs": [
    {
     "data": {
      "text/plain": [
       "7-element Vector{String}:\n",
       " \"Liz\"\n",
       " \"Mol\"\n",
       " \"Asia\"\n",
       " \"Ben\"\n",
       " \"Alice\"\n",
       " \"Melissa\"\n",
       " \"Peg\""
      ]
     },
     "metadata": {},
     "output_type": "display_data"
    }
   ],
   "source": [
    "function names_ages2()\n",
    "    df = names_ages()\n",
    "    df[!, :names]\n",
    "end\n",
    "\n",
    "names_ages2()"
   ]
  },
  {
   "cell_type": "code",
   "execution_count": null,
   "id": "c10614d5",
   "metadata": {},
   "outputs": [],
   "source": []
  },
  {
   "cell_type": "code",
   "execution_count": 43,
   "id": "0413b752-81b2-454e-9d54-f4ef0d1986f2",
   "metadata": {},
   "outputs": [
    {
     "data": {
      "text/html": [
       "<div class=\"data-frame\"><p>3 rows × 3 columns</p><table class=\"data-frame\"><thead><tr><th></th><th>stocks</th><th>price</th><th>fair_price</th></tr><tr><th></th><th title=\"String\">String</th><th title=\"Float64\">Float64</th><th title=\"Int64\">Int64</th></tr></thead><tbody><tr><th>1</th><td>Snow</td><td>159.07</td><td>300</td></tr><tr><th>2</th><td>BYND</td><td>34.13</td><td>59</td></tr><tr><th>3</th><td>EFX</td><td>190.56</td><td>325</td></tr></tbody></table></div>"
      ],
      "text/latex": [
       "\\begin{tabular}{r|ccc}\n",
       "\t& stocks & price & fair\\_price\\\\\n",
       "\t\\hline\n",
       "\t& String & Float64 & Int64\\\\\n",
       "\t\\hline\n",
       "\t1 & Snow & 159.07 & 300 \\\\\n",
       "\t2 & BYND & 34.13 & 59 \\\\\n",
       "\t3 & EFX & 190.56 & 325 \\\\\n",
       "\\end{tabular}\n"
      ],
      "text/plain": [
       "\u001b[1m3×3 DataFrame\u001b[0m\n",
       "\u001b[1m Row \u001b[0m│\u001b[1m stocks \u001b[0m\u001b[1m price   \u001b[0m\u001b[1m fair_price \u001b[0m\n",
       "\u001b[1m     \u001b[0m│\u001b[90m String \u001b[0m\u001b[90m Float64 \u001b[0m\u001b[90m Int64      \u001b[0m\n",
       "─────┼─────────────────────────────\n",
       "   1 │ Snow     159.07         300\n",
       "   2 │ BYND      34.13          59\n",
       "   3 │ EFX      190.56         325"
      ]
     },
     "metadata": {},
     "output_type": "display_data"
    }
   ],
   "source": [
    "function stocks()\n",
    "    stocks = [\"Snow\",\"BYND\",\"EFX\"]\n",
    "    price = [159.07, 34.13, 190.56]\n",
    "    fair_price = [300, 59, 325]\n",
    "    DataFrame(; stocks,price, fair_price)\n",
    "end\n",
    "\n",
    "stocks()\n",
    "    \n",
    "    "
   ]
  },
  {
   "cell_type": "code",
   "execution_count": 34,
   "id": "9280164b-c7a0-42ae-9e0f-5071782a0b47",
   "metadata": {},
   "outputs": [
    {
     "data": {
      "text/html": [
       "<div class=\"data-frame\"><p>4 rows × 3 columns</p><table class=\"data-frame\"><thead><tr><th></th><th>names</th><th>ages</th><th>adult</th></tr><tr><th></th><th title=\"String\">String</th><th title=\"Int64\">Int64</th><th title=\"Int64\">Int64</th></tr></thead><tbody><tr><th>1</th><td>Liz</td><td>44</td><td>1</td></tr><tr><th>2</th><td>Mol</td><td>47</td><td>1</td></tr><tr><th>3</th><td>Asia</td><td>12</td><td>0</td></tr><tr><th>4</th><td>Ben</td><td>43</td><td>1</td></tr></tbody></table></div>"
      ],
      "text/latex": [
       "\\begin{tabular}{r|ccc}\n",
       "\t& names & ages & adult\\\\\n",
       "\t\\hline\n",
       "\t& String & Int64 & Int64\\\\\n",
       "\t\\hline\n",
       "\t1 & Liz & 44 & 1 \\\\\n",
       "\t2 & Mol & 47 & 1 \\\\\n",
       "\t3 & Asia & 12 & 0 \\\\\n",
       "\t4 & Ben & 43 & 1 \\\\\n",
       "\\end{tabular}\n"
      ],
      "text/plain": [
       "\u001b[1m4×3 DataFrame\u001b[0m\n",
       "\u001b[1m Row \u001b[0m│\u001b[1m names  \u001b[0m\u001b[1m ages  \u001b[0m\u001b[1m adult \u001b[0m\n",
       "\u001b[1m     \u001b[0m│\u001b[90m String \u001b[0m\u001b[90m Int64 \u001b[0m\u001b[90m Int64 \u001b[0m\n",
       "─────┼──────────────────────\n",
       "   1 │ Liz        44      1\n",
       "   2 │ Mol        47      1\n",
       "   3 │ Asia       12      0\n",
       "   4 │ Ben        43      1"
      ]
     },
     "metadata": {},
     "output_type": "display_data"
    }
   ],
   "source": [
    "# index and summerize\n",
    "\n",
    "names_ages()"
   ]
  },
  {
   "cell_type": "code",
   "execution_count": 44,
   "id": "bf963777",
   "metadata": {},
   "outputs": [
    {
     "data": {
      "text/html": [
       "<div class=\"data-frame\"><p>7 rows × 4 columns</p><table class=\"data-frame\"><thead><tr><th></th><th>names</th><th>ages</th><th>adult</th><th>state</th></tr><tr><th></th><th title=\"String\">String</th><th title=\"Int64\">Int64</th><th title=\"Int64\">Int64</th><th title=\"String\">String</th></tr></thead><tbody><tr><th>1</th><td>Liz</td><td>44</td><td>1</td><td>MN</td></tr><tr><th>2</th><td>Mol</td><td>47</td><td>1</td><td>MN</td></tr><tr><th>3</th><td>Asia</td><td>12</td><td>0</td><td>UT</td></tr><tr><th>4</th><td>Ben</td><td>43</td><td>1</td><td>MA</td></tr><tr><th>5</th><td>Alice</td><td>7</td><td>0</td><td>MN</td></tr><tr><th>6</th><td>Melissa</td><td>44</td><td>1</td><td>UT</td></tr><tr><th>7</th><td>Peg</td><td>73</td><td>1</td><td>CO</td></tr></tbody></table></div>"
      ],
      "text/latex": [
       "\\begin{tabular}{r|cccc}\n",
       "\t& names & ages & adult & state\\\\\n",
       "\t\\hline\n",
       "\t& String & Int64 & Int64 & String\\\\\n",
       "\t\\hline\n",
       "\t1 & Liz & 44 & 1 & MN \\\\\n",
       "\t2 & Mol & 47 & 1 & MN \\\\\n",
       "\t3 & Asia & 12 & 0 & UT \\\\\n",
       "\t4 & Ben & 43 & 1 & MA \\\\\n",
       "\t5 & Alice & 7 & 0 & MN \\\\\n",
       "\t6 & Melissa & 44 & 1 & UT \\\\\n",
       "\t7 & Peg & 73 & 1 & CO \\\\\n",
       "\\end{tabular}\n"
      ],
      "text/plain": [
       "\u001b[1m7×4 DataFrame\u001b[0m\n",
       "\u001b[1m Row \u001b[0m│\u001b[1m names   \u001b[0m\u001b[1m ages  \u001b[0m\u001b[1m adult \u001b[0m\u001b[1m state  \u001b[0m\n",
       "\u001b[1m     \u001b[0m│\u001b[90m String  \u001b[0m\u001b[90m Int64 \u001b[0m\u001b[90m Int64 \u001b[0m\u001b[90m String \u001b[0m\n",
       "─────┼───────────────────────────────\n",
       "   1 │ Liz         44      1  MN\n",
       "   2 │ Mol         47      1  MN\n",
       "   3 │ Asia        12      0  UT\n",
       "   4 │ Ben         43      1  MA\n",
       "   5 │ Alice        7      0  MN\n",
       "   6 │ Melissa     44      1  UT\n",
       "   7 │ Peg         73      1  CO"
      ]
     },
     "metadata": {},
     "output_type": "display_data"
    }
   ],
   "source": [
    "function names_ages2()\n",
    "    df = names_ages()\n",
    "    #df[!, :names]\n",
    "    #df.names\n",
    "end\n",
    "\n",
    "names_ages2()"
   ]
  },
  {
   "cell_type": "code",
   "execution_count": 45,
   "id": "ef8f3d31",
   "metadata": {},
   "outputs": [
    {
     "data": {
      "text/html": [
       "<p>DataFrameRow (4 columns)</p><div class=\"data-frame\"><table class=\"data-frame\"><thead><tr><th></th><th>names</th><th>ages</th><th>adult</th><th>state</th></tr><tr><th></th><th title=\"String\">String</th><th title=\"Int64\">Int64</th><th title=\"Int64\">Int64</th><th title=\"String\">String</th></tr></thead><tbody><tr><th>2</th><td>Mol</td><td>47</td><td>1</td><td>MN</td></tr></tbody></table></div>"
      ],
      "text/latex": [
       "\\begin{tabular}{r|cccc}\n",
       "\t& names & ages & adult & state\\\\\n",
       "\t\\hline\n",
       "\t& String & Int64 & Int64 & String\\\\\n",
       "\t\\hline\n",
       "\t2 & Mol & 47 & 1 & MN \\\\\n",
       "\\end{tabular}\n"
      ],
      "text/plain": [
       "\u001b[1mDataFrameRow\u001b[0m\n",
       "\u001b[1m Row \u001b[0m│\u001b[1m names  \u001b[0m\u001b[1m ages  \u001b[0m\u001b[1m adult \u001b[0m\u001b[1m state  \u001b[0m\n",
       "\u001b[1m     \u001b[0m│\u001b[90m String \u001b[0m\u001b[90m Int64 \u001b[0m\u001b[90m Int64 \u001b[0m\u001b[90m String \u001b[0m\n",
       "─────┼──────────────────────────────\n",
       "   2 │ Mol        47      1  MN"
      ]
     },
     "metadata": {},
     "output_type": "display_data"
    }
   ],
   "source": [
    "df = names_ages2()\n",
    "df[2, :]"
   ]
  },
  {
   "cell_type": "code",
   "execution_count": 47,
   "id": "58dabd03",
   "metadata": {},
   "outputs": [
    {
     "data": {
      "text/html": [
       "<p>DataFrameRow (4 columns)</p><div class=\"data-frame\"><table class=\"data-frame\"><thead><tr><th></th><th>names</th><th>ages</th><th>adult</th><th>state</th></tr><tr><th></th><th title=\"String\">String</th><th title=\"Int64\">Int64</th><th title=\"Int64\">Int64</th><th title=\"String\">String</th></tr></thead><tbody><tr><th>7</th><td>Peg</td><td>73</td><td>1</td><td>CO</td></tr></tbody></table></div>"
      ],
      "text/latex": [
       "\\begin{tabular}{r|cccc}\n",
       "\t& names & ages & adult & state\\\\\n",
       "\t\\hline\n",
       "\t& String & Int64 & Int64 & String\\\\\n",
       "\t\\hline\n",
       "\t7 & Peg & 73 & 1 & CO \\\\\n",
       "\\end{tabular}\n"
      ],
      "text/plain": [
       "\u001b[1mDataFrameRow\u001b[0m\n",
       "\u001b[1m Row \u001b[0m│\u001b[1m names  \u001b[0m\u001b[1m ages  \u001b[0m\u001b[1m adult \u001b[0m\u001b[1m state  \u001b[0m\n",
       "\u001b[1m     \u001b[0m│\u001b[90m String \u001b[0m\u001b[90m Int64 \u001b[0m\u001b[90m Int64 \u001b[0m\u001b[90m String \u001b[0m\n",
       "─────┼──────────────────────────────\n",
       "   7 │ Peg        73      1  CO"
      ]
     },
     "metadata": {},
     "output_type": "display_data"
    }
   ],
   "source": [
    "function age_2020(i::Int)\n",
    "    df=names_ages()\n",
    "    df[i, :]\n",
    "end\n",
    "\n",
    "age_2020(7)\n"
   ]
  },
  {
   "cell_type": "code",
   "execution_count": 49,
   "id": "95899050",
   "metadata": {},
   "outputs": [
    {
     "data": {
      "text/html": [
       "<div class=\"data-frame\"><p>7 rows × 4 columns</p><table class=\"data-frame\"><thead><tr><th></th><th>names</th><th>ages</th><th>adult</th><th>state</th></tr><tr><th></th><th title=\"String\">String</th><th title=\"Int64\">Int64</th><th title=\"Int64\">Int64</th><th title=\"String\">String</th></tr></thead><tbody><tr><th>1</th><td>Liz</td><td>44</td><td>1</td><td>MN</td></tr><tr><th>2</th><td>Mol</td><td>47</td><td>1</td><td>MN</td></tr><tr><th>3</th><td>Asia</td><td>12</td><td>0</td><td>UT</td></tr><tr><th>4</th><td>Ben</td><td>43</td><td>1</td><td>MA</td></tr><tr><th>5</th><td>Alice</td><td>7</td><td>0</td><td>MN</td></tr><tr><th>6</th><td>Melissa</td><td>44</td><td>1</td><td>UT</td></tr><tr><th>7</th><td>Peg</td><td>73</td><td>1</td><td>CO</td></tr></tbody></table></div>"
      ],
      "text/latex": [
       "\\begin{tabular}{r|cccc}\n",
       "\t& names & ages & adult & state\\\\\n",
       "\t\\hline\n",
       "\t& String & Int64 & Int64 & String\\\\\n",
       "\t\\hline\n",
       "\t1 & Liz & 44 & 1 & MN \\\\\n",
       "\t2 & Mol & 47 & 1 & MN \\\\\n",
       "\t3 & Asia & 12 & 0 & UT \\\\\n",
       "\t4 & Ben & 43 & 1 & MA \\\\\n",
       "\t5 & Alice & 7 & 0 & MN \\\\\n",
       "\t6 & Melissa & 44 & 1 & UT \\\\\n",
       "\t7 & Peg & 73 & 1 & CO \\\\\n",
       "\\end{tabular}\n"
      ],
      "text/plain": [
       "\u001b[1m7×4 DataFrame\u001b[0m\n",
       "\u001b[1m Row \u001b[0m│\u001b[1m names   \u001b[0m\u001b[1m ages  \u001b[0m\u001b[1m adult \u001b[0m\u001b[1m state  \u001b[0m\n",
       "\u001b[1m     \u001b[0m│\u001b[90m String  \u001b[0m\u001b[90m Int64 \u001b[0m\u001b[90m Int64 \u001b[0m\u001b[90m String \u001b[0m\n",
       "─────┼───────────────────────────────\n",
       "   1 │ Liz         44      1  MN\n",
       "   2 │ Mol         47      1  MN\n",
       "   3 │ Asia        12      0  UT\n",
       "   4 │ Ben         43      1  MA\n",
       "   5 │ Alice        7      0  MN\n",
       "   6 │ Melissa     44      1  UT\n",
       "   7 │ Peg         73      1  CO"
      ]
     },
     "metadata": {},
     "output_type": "display_data"
    }
   ],
   "source": [
    "names_ages()"
   ]
  },
  {
   "cell_type": "code",
   "execution_count": 52,
   "id": "a4306577",
   "metadata": {},
   "outputs": [
    {
     "data": {
      "text/plain": [
       "true"
      ]
     },
     "metadata": {},
     "output_type": "display_data"
    }
   ],
   "source": [
    "equals_liz(name::String) = name == \"Liz\"\n",
    "equals_liz(\"Liz\")"
   ]
  },
  {
   "cell_type": "code",
   "execution_count": 55,
   "id": "912ac68e",
   "metadata": {},
   "outputs": [
    {
     "data": {
      "text/html": [
       "<div class=\"data-frame\"><p>1 rows × 4 columns</p><table class=\"data-frame\"><thead><tr><th></th><th>names</th><th>ages</th><th>adult</th><th>state</th></tr><tr><th></th><th title=\"String\">String</th><th title=\"Int64\">Int64</th><th title=\"Int64\">Int64</th><th title=\"String\">String</th></tr></thead><tbody><tr><th>1</th><td>Liz</td><td>44</td><td>1</td><td>MN</td></tr></tbody></table></div>"
      ],
      "text/latex": [
       "\\begin{tabular}{r|cccc}\n",
       "\t& names & ages & adult & state\\\\\n",
       "\t\\hline\n",
       "\t& String & Int64 & Int64 & String\\\\\n",
       "\t\\hline\n",
       "\t1 & Liz & 44 & 1 & MN \\\\\n",
       "\\end{tabular}\n"
      ],
      "text/plain": [
       "\u001b[1m1×4 DataFrame\u001b[0m\n",
       "\u001b[1m Row \u001b[0m│\u001b[1m names  \u001b[0m\u001b[1m ages  \u001b[0m\u001b[1m adult \u001b[0m\u001b[1m state  \u001b[0m\n",
       "\u001b[1m     \u001b[0m│\u001b[90m String \u001b[0m\u001b[90m Int64 \u001b[0m\u001b[90m Int64 \u001b[0m\u001b[90m String \u001b[0m\n",
       "─────┼──────────────────────────────\n",
       "   1 │ Liz        44      1  MN"
      ]
     },
     "metadata": {},
     "output_type": "display_data"
    }
   ],
   "source": [
    "filter(:names=> equals_liz, names_ages())"
   ]
  },
  {
   "cell_type": "code",
   "execution_count": 56,
   "id": "c491e8b8",
   "metadata": {},
   "outputs": [
    {
     "data": {
      "text/html": [
       "<div class=\"data-frame\"><p>1 rows × 4 columns</p><table class=\"data-frame\"><thead><tr><th></th><th>names</th><th>ages</th><th>adult</th><th>state</th></tr><tr><th></th><th title=\"String\">String</th><th title=\"Int64\">Int64</th><th title=\"Int64\">Int64</th><th title=\"String\">String</th></tr></thead><tbody><tr><th>1</th><td>Liz</td><td>44</td><td>1</td><td>MN</td></tr></tbody></table></div>"
      ],
      "text/latex": [
       "\\begin{tabular}{r|cccc}\n",
       "\t& names & ages & adult & state\\\\\n",
       "\t\\hline\n",
       "\t& String & Int64 & Int64 & String\\\\\n",
       "\t\\hline\n",
       "\t1 & Liz & 44 & 1 & MN \\\\\n",
       "\\end{tabular}\n"
      ],
      "text/plain": [
       "\u001b[1m1×4 DataFrame\u001b[0m\n",
       "\u001b[1m Row \u001b[0m│\u001b[1m names  \u001b[0m\u001b[1m ages  \u001b[0m\u001b[1m adult \u001b[0m\u001b[1m state  \u001b[0m\n",
       "\u001b[1m     \u001b[0m│\u001b[90m String \u001b[0m\u001b[90m Int64 \u001b[0m\u001b[90m Int64 \u001b[0m\u001b[90m String \u001b[0m\n",
       "─────┼──────────────────────────────\n",
       "   1 │ Liz        44      1  MN"
      ]
     },
     "metadata": {},
     "output_type": "display_data"
    }
   ],
   "source": [
    "filter(:names => n -> n == \"Liz\", names_ages())"
   ]
  },
  {
   "cell_type": "code",
   "execution_count": null,
   "id": "3f3cd63f",
   "metadata": {},
   "outputs": [],
   "source": []
  }
 ],
 "metadata": {
  "kernelspec": {
   "display_name": "Julia 1.6.6",
   "language": "julia",
   "name": "julia-1.6"
  },
  "language_info": {
   "file_extension": ".jl",
   "mimetype": "application/julia",
   "name": "julia",
   "version": "1.6.6"
  }
 },
 "nbformat": 4,
 "nbformat_minor": 5
}
