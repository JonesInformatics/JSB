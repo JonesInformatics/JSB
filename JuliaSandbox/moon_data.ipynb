{
 "cells": [
  {
   "cell_type": "code",
   "execution_count": 1,
   "id": "51d642f9-1871-466a-a6a6-0228d1095f42",
   "metadata": {},
   "outputs": [
    {
     "data": {
      "text/html": [
       "<div class=\"data-frame\"><p>1,868 rows × 3 columns</p><table class=\"data-frame\"><thead><tr><th></th><th>Day</th><th>Date</th><th>Time</th></tr><tr><th></th><th title=\"String15\">String15</th><th title=\"String31\">String31</th><th title=\"String31\">String31</th></tr></thead><tbody><tr><th>1</th><td>Monday</td><td> 15 January 1900</td><td> 08:07:30 pm</td></tr><tr><th>2</th><td>Wednesday</td><td> 14 February 1900</td><td> 02:50:12 pm</td></tr><tr><th>3</th><td>Friday</td><td> 16 March 1900</td><td> 09:11:48 am</td></tr><tr><th>4</th><td>Sunday</td><td> 15 April 1900</td><td> 02:02:06 am</td></tr><tr><th>5</th><td>Monday</td><td> 14 May 1900</td><td> 04:36:36 pm</td></tr><tr><th>6</th><td>Wednesday</td><td> 13 June 1900</td><td> 04:38:36 am</td></tr><tr><th>7</th><td>Thursday</td><td> 12 July 1900</td><td> 02:21:54 pm</td></tr><tr><th>8</th><td>Friday</td><td> 10 August 1900</td><td> 10:29:54 pm</td></tr><tr><th>9</th><td>Sunday</td><td> 9 September 1900</td><td> 06:06:06 am</td></tr><tr><th>10</th><td>Monday</td><td> 8 October 1900</td><td> 02:18:06 pm</td></tr><tr><th>11</th><td>Tuesday</td><td> 6 November 1900</td><td> 11:59:36 pm</td></tr><tr><th>12</th><td>Thursday</td><td> 6 December 1900</td><td> 11:38:06 am</td></tr><tr><th>13</th><td>Saturday</td><td> 5 January 1901</td><td> 01:13:24 am</td></tr><tr><th>14</th><td>Sunday</td><td> 3 February 1901</td><td> 04:29:42 pm</td></tr><tr><th>15</th><td>Tuesday</td><td> 5 March 1901</td><td> 09:04:06 am</td></tr><tr><th>16</th><td>Thursday</td><td> 4 April 1901</td><td> 02:20:06 am</td></tr><tr><th>17</th><td>Friday</td><td> 3 May 1901</td><td> 07:18:42 pm</td></tr><tr><th>18</th><td>Sunday</td><td> 2 June 1901</td><td> 10:52:42 am</td></tr><tr><th>19</th><td>Tuesday</td><td> 2 July 1901</td><td> 12:17:36 am</td></tr><tr><th>20</th><td>Wednesday</td><td> 31 July 1901</td><td> 11:33:42 am</td></tr><tr><th>21</th><td>Thursday</td><td> 29 August 1901</td><td> 09:20:48 pm</td></tr><tr><th>22</th><td>Saturday</td><td> 28 September 1901</td><td> 06:35:42 am</td></tr><tr><th>23</th><td>Sunday</td><td> 27 October 1901</td><td> 04:06:12 pm</td></tr><tr><th>24</th><td>Tuesday</td><td> 26 November 1901</td><td> 02:17:30 am</td></tr><tr><th>25</th><td>Wednesday</td><td> 25 December 1901</td><td> 01:15:48 pm</td></tr><tr><th>26</th><td>Friday</td><td> 24 January 1902</td><td> 01:06:06 am</td></tr><tr><th>27</th><td>Saturday</td><td> 22 February 1902</td><td> 02:03:18 pm</td></tr><tr><th>28</th><td>Monday</td><td> 24 March 1902</td><td> 04:21:12 am</td></tr><tr><th>29</th><td>Tuesday</td><td> 22 April 1902</td><td> 07:49:30 pm</td></tr><tr><th>30</th><td>Thursday</td><td> 22 May 1902</td><td> 11:46:00 am</td></tr><tr><th>&vellip;</th><td>&vellip;</td><td>&vellip;</td><td>&vellip;</td></tr></tbody></table></div>"
      ],
      "text/latex": [
       "\\begin{tabular}{r|ccc}\n",
       "\t& Day & Date & Time\\\\\n",
       "\t\\hline\n",
       "\t& String15 & String31 & String31\\\\\n",
       "\t\\hline\n",
       "\t1 & Monday &  15 January 1900 &  08:07:30 pm \\\\\n",
       "\t2 & Wednesday &  14 February 1900 &  02:50:12 pm \\\\\n",
       "\t3 & Friday &  16 March 1900 &  09:11:48 am \\\\\n",
       "\t4 & Sunday &  15 April 1900 &  02:02:06 am \\\\\n",
       "\t5 & Monday &  14 May 1900 &  04:36:36 pm \\\\\n",
       "\t6 & Wednesday &  13 June 1900 &  04:38:36 am \\\\\n",
       "\t7 & Thursday &  12 July 1900 &  02:21:54 pm \\\\\n",
       "\t8 & Friday &  10 August 1900 &  10:29:54 pm \\\\\n",
       "\t9 & Sunday &  9 September 1900 &  06:06:06 am \\\\\n",
       "\t10 & Monday &  8 October 1900 &  02:18:06 pm \\\\\n",
       "\t11 & Tuesday &  6 November 1900 &  11:59:36 pm \\\\\n",
       "\t12 & Thursday &  6 December 1900 &  11:38:06 am \\\\\n",
       "\t13 & Saturday &  5 January 1901 &  01:13:24 am \\\\\n",
       "\t14 & Sunday &  3 February 1901 &  04:29:42 pm \\\\\n",
       "\t15 & Tuesday &  5 March 1901 &  09:04:06 am \\\\\n",
       "\t16 & Thursday &  4 April 1901 &  02:20:06 am \\\\\n",
       "\t17 & Friday &  3 May 1901 &  07:18:42 pm \\\\\n",
       "\t18 & Sunday &  2 June 1901 &  10:52:42 am \\\\\n",
       "\t19 & Tuesday &  2 July 1901 &  12:17:36 am \\\\\n",
       "\t20 & Wednesday &  31 July 1901 &  11:33:42 am \\\\\n",
       "\t21 & Thursday &  29 August 1901 &  09:20:48 pm \\\\\n",
       "\t22 & Saturday &  28 September 1901 &  06:35:42 am \\\\\n",
       "\t23 & Sunday &  27 October 1901 &  04:06:12 pm \\\\\n",
       "\t24 & Tuesday &  26 November 1901 &  02:17:30 am \\\\\n",
       "\t25 & Wednesday &  25 December 1901 &  01:15:48 pm \\\\\n",
       "\t26 & Friday &  24 January 1902 &  01:06:06 am \\\\\n",
       "\t27 & Saturday &  22 February 1902 &  02:03:18 pm \\\\\n",
       "\t28 & Monday &  24 March 1902 &  04:21:12 am \\\\\n",
       "\t29 & Tuesday &  22 April 1902 &  07:49:30 pm \\\\\n",
       "\t30 & Thursday &  22 May 1902 &  11:46:00 am \\\\\n",
       "\t$\\dots$ & $\\dots$ & $\\dots$ & $\\dots$ \\\\\n",
       "\\end{tabular}\n"
      ],
      "text/plain": [
       "\u001b[1m1868×3 DataFrame\u001b[0m\n",
       "\u001b[1m  Row \u001b[0m│\u001b[1m Day       \u001b[0m\u001b[1m Date               \u001b[0m\u001b[1m Time         \u001b[0m\n",
       "\u001b[1m      \u001b[0m│\u001b[90m String15  \u001b[0m\u001b[90m String31           \u001b[0m\u001b[90m String31     \u001b[0m\n",
       "──────┼─────────────────────────────────────────────\n",
       "    1 │ Monday      15 January 1900     08:07:30 pm\n",
       "    2 │ Wednesday   14 February 1900    02:50:12 pm\n",
       "    3 │ Friday      16 March 1900       09:11:48 am\n",
       "    4 │ Sunday      15 April 1900       02:02:06 am\n",
       "    5 │ Monday      14 May 1900         04:36:36 pm\n",
       "    6 │ Wednesday   13 June 1900        04:38:36 am\n",
       "    7 │ Thursday    12 July 1900        02:21:54 pm\n",
       "    8 │ Friday      10 August 1900      10:29:54 pm\n",
       "    9 │ Sunday      9 September 1900    06:06:06 am\n",
       "   10 │ Monday      8 October 1900      02:18:06 pm\n",
       "   11 │ Tuesday     6 November 1900     11:59:36 pm\n",
       "  ⋮   │     ⋮              ⋮                ⋮\n",
       " 1859 │ Thursday    7 April 2050        09:12:12 am\n",
       " 1860 │ Friday      6 May 2050          11:26:12 pm\n",
       " 1861 │ Sunday      5 June 2050         10:51:12 am\n",
       " 1862 │ Monday      4 July 2050         07:51:00 pm\n",
       " 1863 │ Wednesday   3 August 2050       03:20:30 am\n",
       " 1864 │ Thursday    1 September 2050    10:30:54 am\n",
       " 1865 │ Friday      30 September 2050   06:31:48 pm\n",
       " 1866 │ Sunday      30 October 2050     04:16:00 am\n",
       " 1867 │ Monday      28 November 2050    04:09:48 pm\n",
       " 1868 │ Wednesday   28 December 2050    06:15:36 am\n",
       "\u001b[36m                                   1847 rows omitted\u001b[0m"
      ]
     },
     "execution_count": 1,
     "metadata": {},
     "output_type": "execute_result"
    }
   ],
   "source": [
    "using CSV\n",
    "using DataFrames\n",
    "using Dates\n",
    "using SplitApplyCombine\n",
    "\n",
    "df = CSV.File(\"full_moon.csv\") |> DataFrame\n",
    "\n",
    "#df[!:Time] = Dates.format(Time.( A[!, :Time],\"II:MM p\"))\n",
    "#df[\"Time\":dateformat, \"II:MM p\"]\n",
    "\n",
    "#arr[dateformat\"II:MM p\"]\n",
    "\n",
    "#A[!,:DATE]= Dates.format.(Date.( A[!,:DATE],\"dd/mm/yyyy\"),\"Ymmdd\")\n",
    "#df[!, :Time] = Dates.format(Time.(df[!, :Time], \" II:MM p\"),\" II:MM p\")\n",
    "#df1=convert(Matrix,df)\n",
    "\n",
    "#df[!, :Time]\n",
    "df\n",
    "\n",
    "#format = DateFormat(\"ddmmyyyy\")"
   ]
  },
  {
   "cell_type": "code",
   "execution_count": 3,
   "id": "94cc2335-e386-4b10-a03e-7b69bf767428",
   "metadata": {},
   "outputs": [
    {
     "data": {
      "text/html": [
       "<div class=\"data-frame\"><p>5 rows × 4 columns</p><table class=\"data-frame\"><thead><tr><th></th><th>name</th><th>age</th><th>children</th><th>date</th></tr><tr><th></th><th title=\"String\">String</th><th title=\"Float64\">Float64</th><th title=\"Int64\">Int64</th><th title=\"Date\">Date</th></tr></thead><tbody><tr><th>1</th><td>John</td><td>23.0</td><td>3</td><td>2015-01-01</td></tr><tr><th>2</th><td>Sally</td><td>42.0</td><td>2</td><td>2015-01-10</td></tr><tr><th>3</th><td>Kirk</td><td>59.0</td><td>2</td><td>2015-02-20</td></tr><tr><th>4</th><td>Sanders</td><td>31.0</td><td>0</td><td>2015-02-05</td></tr><tr><th>5</th><td>Hank</td><td>65.0</td><td>5</td><td>2015-02-28</td></tr></tbody></table></div>"
      ],
      "text/latex": [
       "\\begin{tabular}{r|cccc}\n",
       "\t& name & age & children & date\\\\\n",
       "\t\\hline\n",
       "\t& String & Float64 & Int64 & Date\\\\\n",
       "\t\\hline\n",
       "\t1 & John & 23.0 & 3 & 2015-01-01 \\\\\n",
       "\t2 & Sally & 42.0 & 2 & 2015-01-10 \\\\\n",
       "\t3 & Kirk & 59.0 & 2 & 2015-02-20 \\\\\n",
       "\t4 & Sanders & 31.0 & 0 & 2015-02-05 \\\\\n",
       "\t5 & Hank & 65.0 & 5 & 2015-02-28 \\\\\n",
       "\\end{tabular}\n"
      ],
      "text/plain": [
       "\u001b[1m5×4 DataFrame\u001b[0m\n",
       "\u001b[1m Row \u001b[0m│\u001b[1m name    \u001b[0m\u001b[1m age     \u001b[0m\u001b[1m children \u001b[0m\u001b[1m date       \u001b[0m\n",
       "\u001b[1m     \u001b[0m│\u001b[90m String  \u001b[0m\u001b[90m Float64 \u001b[0m\u001b[90m Int64    \u001b[0m\u001b[90m Date       \u001b[0m\n",
       "─────┼────────────────────────────────────────\n",
       "   1 │ John        23.0         3  2015-01-01\n",
       "   2 │ Sally       42.0         2  2015-01-10\n",
       "   3 │ Kirk        59.0         2  2015-02-20\n",
       "   4 │ Sanders     31.0         0  2015-02-05\n",
       "   5 │ Hank        65.0         5  2015-02-28"
      ]
     },
     "execution_count": 3,
     "metadata": {},
     "output_type": "execute_result"
    }
   ],
   "source": [
    "using DataFrames, Dates, Statistics\n",
    "\n",
    "df_2 = DataFrame(name=[\"John\", \"Sally\", \"Kirk\", \"Sanders\", \"Hank\"],\n",
    "                 age=[23., 42., 59., 31., 65],\n",
    "                 children=[3,2,2,0,5],\n",
    "                 date=[Date(\"2015-01-01\")\n",
    "                       Date(\"2015-01-10\")\n",
    "                       Date(\"2015-02-20\")\n",
    "                       Date(\"2015-02-05\")\n",
    "                       Date(\"2015-02-28\")])"
   ]
  },
  {
   "cell_type": "code",
   "execution_count": null,
   "id": "f8c60d2a",
   "metadata": {},
   "outputs": [],
   "source": [
    "#Monday\t15 January 1900\t08:07:30 pm\t\n",
    "#DateTime(\"01-15-1900T08:07:30pm\", dateformat\"mm-dd-yyyy-II:MM p\")\n",
    "\n",
    "DateFormat(\"01-15-1900:08:07:30 pm\",\"mm-dd-yyyy:HH:MM:SS p\")\n",
    "\n",
    "Tuesday, 14 June 2022, 01:51:48 pm\n",
    "Wednesday, 13 July 2022, 08:37:42 pm"
   ]
  },
  {
   "cell_type": "code",
   "execution_count": 147,
   "id": "62fce200",
   "metadata": {},
   "outputs": [
    {
     "data": {
      "text/plain": [
       "2022-07-14T02:35:50.777"
      ]
     },
     "metadata": {},
     "output_type": "display_data"
    }
   ],
   "source": [
    "t1 = DateTime(2022,6,14,13,51,48,0)\n",
    "peroid = Dates.Millisecond(2551442777) \n",
    "t1 + peroid  #(peroid * 3)"
   ]
  },
  {
   "cell_type": "code",
   "execution_count": null,
   "id": "38b4484e",
   "metadata": {},
   "outputs": [],
   "source": [
    "14 February 1900\t02:50:12 pm\t\n",
    "\\\n",
    "14\t2\t1900\n",
    "3\tFriday\t16 March 1900\t09:11:48 am\t16\t3\t1900\n",
    "4\tSunday\t15 April 1900\t02:02:06 am\t15\t4\t1900\n",
    "5\tMonday\t14 May 1900\t04:36:36 pm\t14\t5\t1900\n",
    "6\tWednesday\t13 June 1900\t04:38:36 am\t13\t6\t1900"
   ]
  },
  {
   "cell_type": "code",
   "execution_count": null,
   "id": "9b2bdc74",
   "metadata": {},
   "outputs": [],
   "source": [
    "d1= \"02/02/2022\"\n",
    "date=Date(d1,\"dd/mm/yyyy\")\n",
    "s=Dates.format(date,\"Ymmdd\")\n",
    "A[!,:DATE]= Dates.format.(Date.( A[!,:DATE],\"dd/mm/yyyy\"),\"Ymmdd\")"
   ]
  },
  {
   "cell_type": "code",
   "execution_count": null,
   "id": "7d81d748",
   "metadata": {},
   "outputs": [],
   "source": [
    "A[!,:DATE]= Dates.format.(Date.( A[!,:DATE],\"dd/mm/yyyy\"),\"Ymmdd\")"
   ]
  },
  {
   "cell_type": "code",
   "execution_count": null,
   "id": "fc9eadde",
   "metadata": {},
   "outputs": [],
   "source": [
    "using Dates\n",
    "f(x; df = dateformat\"m/d/y\") = Date(x, df)\n",
    "transform(df, :date=>ByRow(f))"
   ]
  },
  {
   "cell_type": "code",
   "execution_count": null,
   "id": "22da94fb",
   "metadata": {},
   "outputs": [],
   "source": [
    "DateTime(\"2019-03-22 2:05 PM\", dateformat\"yyyy-mm-dd II:MM p\")\n",
    "\n",
    "#Time(\"12:45pm\", \"HH:MM\")\n",
    "\n",
    "#a = (\"12:34pm\",\"2:34am\");\n",
    "\n",
    "\n",
    "#Time(d, dateformat\"HH:MMp\") for d ∈ a"
   ]
  },
  {
   "cell_type": "markdown",
   "id": "ca39f970",
   "metadata": {},
   "source": [
    "test time"
   ]
  },
  {
   "cell_type": "code",
   "execution_count": null,
   "id": "d3e71fc0",
   "metadata": {},
   "outputs": [],
   "source": [
    "df = CSV.File(\"full_moon.csv\") |> DataFrame\n",
    "df = rename!(df, :Time => :time_new)\n",
    "DateTime(\"time_new, dateformat\"yyyy-mm-dd II:MM p\")\n",
    "\n",
    "#for i in df[!, \"time_new\"]\n",
    "    #println(\"$i\")\n",
    "#end"
   ]
  },
  {
   "cell_type": "code",
   "execution_count": null,
   "id": "083bea06-1da6-4775-80ab-e814e48522e5",
   "metadata": {},
   "outputs": [],
   "source": [
    "# use pipe function to openj df\n",
    "function make_data()\n",
    "    df = CSV.File(\"full_moon.csv\") |> DataFrame\n",
    "    df = rename!(df, :Time => :time_new)\n",
    "    df = rename(df, :Date => :date_new)\n",
    "    df = rename(df, :Day => :day_of_week)\n",
    "    #split columns\n",
    "    tmp = split.(df.date_new)\n",
    "    insertcols!(df, [n => getindex.(tmp, i) for (i, n) in\n",
    "                        enumerate([:day, :month, :year])]...)\n",
    "    #replace month string\n",
    "    replace!(df.month, \"April\" => \"4\", \"January\" => \"1\", \n",
    "    \"February\" => \"2\", \"March\" => \"3\", \"May\" => \"5\",\n",
    "    \"June\" => \"6\", \"July\" => \"7\", \"August\" => \"8\",\n",
    "    \"September\" => \"9\", \"October\" => \"10\", \"November\" => \"11\",\n",
    "    \"December\" => \"12\")\n",
    "    #df\n",
    "    # combine items back into string\n",
    "    df.date_format = string.(df.year, \"-\", df.month, \"-\", df.day)\n",
    "    df.date_and_time = string.(df.date_new, \"\", df.time_new)\n",
    "   \n",
    "    df.date_format = string.(df.year, \"-\", df.month, \"-\", df.day)\n",
    "    df.C = string.(df.date_format,\"-\",df.time_new)\n",
    "    \n",
    "    df\n",
    "end\n",
    "    \n",
    "\n",
    "make_data()"
   ]
  },
  {
   "cell_type": "code",
   "execution_count": 36,
   "id": "6d214d18-a5b7-4573-b454-10fdadc78cf1",
   "metadata": {},
   "outputs": [
    {
     "data": {
      "text/plain": [
       "true"
      ]
     },
     "execution_count": 36,
     "metadata": {},
     "output_type": "execute_result"
    }
   ],
   "source": [
    "equal_year(year::SubString) = year == \"2022\"\n",
    "equal_year(2022)"
   ]
  },
  {
   "cell_type": "code",
   "execution_count": 35,
   "id": "d07dae94-15f5-4219-bb1e-7f8d38e4dd36",
   "metadata": {},
   "outputs": [
    {
     "data": {
      "text/html": [
       "<div class=\"data-frame\"><p>1,868 rows × 9 columns (omitted printing of 3 columns)</p><table class=\"data-frame\"><thead><tr><th></th><th>day_of_week</th><th>date_new</th><th>time_new</th><th>day</th><th>month</th><th>year</th></tr><tr><th></th><th title=\"String15\">String15</th><th title=\"String31\">String31</th><th title=\"String31\">String31</th><th title=\"SubString{String31}\">SubStrin…</th><th title=\"SubString{String31}\">SubStrin…</th><th title=\"SubString{String31}\">SubStrin…</th></tr></thead><tbody><tr><th>1</th><td>Monday</td><td> 15 January 1900</td><td> 08:07:30 pm</td><td>15</td><td>1</td><td>1900</td></tr><tr><th>2</th><td>Wednesday</td><td> 14 February 1900</td><td> 02:50:12 pm</td><td>14</td><td>2</td><td>1900</td></tr><tr><th>3</th><td>Friday</td><td> 16 March 1900</td><td> 09:11:48 am</td><td>16</td><td>3</td><td>1900</td></tr><tr><th>4</th><td>Sunday</td><td> 15 April 1900</td><td> 02:02:06 am</td><td>15</td><td>4</td><td>1900</td></tr><tr><th>5</th><td>Monday</td><td> 14 May 1900</td><td> 04:36:36 pm</td><td>14</td><td>5</td><td>1900</td></tr><tr><th>6</th><td>Wednesday</td><td> 13 June 1900</td><td> 04:38:36 am</td><td>13</td><td>6</td><td>1900</td></tr><tr><th>7</th><td>Thursday</td><td> 12 July 1900</td><td> 02:21:54 pm</td><td>12</td><td>7</td><td>1900</td></tr><tr><th>8</th><td>Friday</td><td> 10 August 1900</td><td> 10:29:54 pm</td><td>10</td><td>8</td><td>1900</td></tr><tr><th>9</th><td>Sunday</td><td> 9 September 1900</td><td> 06:06:06 am</td><td>9</td><td>9</td><td>1900</td></tr><tr><th>10</th><td>Monday</td><td> 8 October 1900</td><td> 02:18:06 pm</td><td>8</td><td>10</td><td>1900</td></tr><tr><th>11</th><td>Tuesday</td><td> 6 November 1900</td><td> 11:59:36 pm</td><td>6</td><td>11</td><td>1900</td></tr><tr><th>12</th><td>Thursday</td><td> 6 December 1900</td><td> 11:38:06 am</td><td>6</td><td>12</td><td>1900</td></tr><tr><th>13</th><td>Saturday</td><td> 5 January 1901</td><td> 01:13:24 am</td><td>5</td><td>1</td><td>1901</td></tr><tr><th>14</th><td>Sunday</td><td> 3 February 1901</td><td> 04:29:42 pm</td><td>3</td><td>2</td><td>1901</td></tr><tr><th>15</th><td>Tuesday</td><td> 5 March 1901</td><td> 09:04:06 am</td><td>5</td><td>3</td><td>1901</td></tr><tr><th>16</th><td>Thursday</td><td> 4 April 1901</td><td> 02:20:06 am</td><td>4</td><td>4</td><td>1901</td></tr><tr><th>17</th><td>Friday</td><td> 3 May 1901</td><td> 07:18:42 pm</td><td>3</td><td>5</td><td>1901</td></tr><tr><th>18</th><td>Sunday</td><td> 2 June 1901</td><td> 10:52:42 am</td><td>2</td><td>6</td><td>1901</td></tr><tr><th>19</th><td>Tuesday</td><td> 2 July 1901</td><td> 12:17:36 am</td><td>2</td><td>7</td><td>1901</td></tr><tr><th>20</th><td>Wednesday</td><td> 31 July 1901</td><td> 11:33:42 am</td><td>31</td><td>7</td><td>1901</td></tr><tr><th>21</th><td>Thursday</td><td> 29 August 1901</td><td> 09:20:48 pm</td><td>29</td><td>8</td><td>1901</td></tr><tr><th>22</th><td>Saturday</td><td> 28 September 1901</td><td> 06:35:42 am</td><td>28</td><td>9</td><td>1901</td></tr><tr><th>23</th><td>Sunday</td><td> 27 October 1901</td><td> 04:06:12 pm</td><td>27</td><td>10</td><td>1901</td></tr><tr><th>24</th><td>Tuesday</td><td> 26 November 1901</td><td> 02:17:30 am</td><td>26</td><td>11</td><td>1901</td></tr><tr><th>25</th><td>Wednesday</td><td> 25 December 1901</td><td> 01:15:48 pm</td><td>25</td><td>12</td><td>1901</td></tr><tr><th>26</th><td>Friday</td><td> 24 January 1902</td><td> 01:06:06 am</td><td>24</td><td>1</td><td>1902</td></tr><tr><th>27</th><td>Saturday</td><td> 22 February 1902</td><td> 02:03:18 pm</td><td>22</td><td>2</td><td>1902</td></tr><tr><th>28</th><td>Monday</td><td> 24 March 1902</td><td> 04:21:12 am</td><td>24</td><td>3</td><td>1902</td></tr><tr><th>29</th><td>Tuesday</td><td> 22 April 1902</td><td> 07:49:30 pm</td><td>22</td><td>4</td><td>1902</td></tr><tr><th>30</th><td>Thursday</td><td> 22 May 1902</td><td> 11:46:00 am</td><td>22</td><td>5</td><td>1902</td></tr><tr><th>&vellip;</th><td>&vellip;</td><td>&vellip;</td><td>&vellip;</td><td>&vellip;</td><td>&vellip;</td><td>&vellip;</td></tr></tbody></table></div>"
      ],
      "text/latex": [
       "\\begin{tabular}{r|ccccccc}\n",
       "\t& day\\_of\\_week & date\\_new & time\\_new & day & month & year & \\\\\n",
       "\t\\hline\n",
       "\t& String15 & String31 & String31 & SubStrin… & SubStrin… & SubStrin… & \\\\\n",
       "\t\\hline\n",
       "\t1 & Monday &  15 January 1900 &  08:07:30 pm & 15 & 1 & 1900 & $\\dots$ \\\\\n",
       "\t2 & Wednesday &  14 February 1900 &  02:50:12 pm & 14 & 2 & 1900 & $\\dots$ \\\\\n",
       "\t3 & Friday &  16 March 1900 &  09:11:48 am & 16 & 3 & 1900 & $\\dots$ \\\\\n",
       "\t4 & Sunday &  15 April 1900 &  02:02:06 am & 15 & 4 & 1900 & $\\dots$ \\\\\n",
       "\t5 & Monday &  14 May 1900 &  04:36:36 pm & 14 & 5 & 1900 & $\\dots$ \\\\\n",
       "\t6 & Wednesday &  13 June 1900 &  04:38:36 am & 13 & 6 & 1900 & $\\dots$ \\\\\n",
       "\t7 & Thursday &  12 July 1900 &  02:21:54 pm & 12 & 7 & 1900 & $\\dots$ \\\\\n",
       "\t8 & Friday &  10 August 1900 &  10:29:54 pm & 10 & 8 & 1900 & $\\dots$ \\\\\n",
       "\t9 & Sunday &  9 September 1900 &  06:06:06 am & 9 & 9 & 1900 & $\\dots$ \\\\\n",
       "\t10 & Monday &  8 October 1900 &  02:18:06 pm & 8 & 10 & 1900 & $\\dots$ \\\\\n",
       "\t11 & Tuesday &  6 November 1900 &  11:59:36 pm & 6 & 11 & 1900 & $\\dots$ \\\\\n",
       "\t12 & Thursday &  6 December 1900 &  11:38:06 am & 6 & 12 & 1900 & $\\dots$ \\\\\n",
       "\t13 & Saturday &  5 January 1901 &  01:13:24 am & 5 & 1 & 1901 & $\\dots$ \\\\\n",
       "\t14 & Sunday &  3 February 1901 &  04:29:42 pm & 3 & 2 & 1901 & $\\dots$ \\\\\n",
       "\t15 & Tuesday &  5 March 1901 &  09:04:06 am & 5 & 3 & 1901 & $\\dots$ \\\\\n",
       "\t16 & Thursday &  4 April 1901 &  02:20:06 am & 4 & 4 & 1901 & $\\dots$ \\\\\n",
       "\t17 & Friday &  3 May 1901 &  07:18:42 pm & 3 & 5 & 1901 & $\\dots$ \\\\\n",
       "\t18 & Sunday &  2 June 1901 &  10:52:42 am & 2 & 6 & 1901 & $\\dots$ \\\\\n",
       "\t19 & Tuesday &  2 July 1901 &  12:17:36 am & 2 & 7 & 1901 & $\\dots$ \\\\\n",
       "\t20 & Wednesday &  31 July 1901 &  11:33:42 am & 31 & 7 & 1901 & $\\dots$ \\\\\n",
       "\t21 & Thursday &  29 August 1901 &  09:20:48 pm & 29 & 8 & 1901 & $\\dots$ \\\\\n",
       "\t22 & Saturday &  28 September 1901 &  06:35:42 am & 28 & 9 & 1901 & $\\dots$ \\\\\n",
       "\t23 & Sunday &  27 October 1901 &  04:06:12 pm & 27 & 10 & 1901 & $\\dots$ \\\\\n",
       "\t24 & Tuesday &  26 November 1901 &  02:17:30 am & 26 & 11 & 1901 & $\\dots$ \\\\\n",
       "\t25 & Wednesday &  25 December 1901 &  01:15:48 pm & 25 & 12 & 1901 & $\\dots$ \\\\\n",
       "\t26 & Friday &  24 January 1902 &  01:06:06 am & 24 & 1 & 1902 & $\\dots$ \\\\\n",
       "\t27 & Saturday &  22 February 1902 &  02:03:18 pm & 22 & 2 & 1902 & $\\dots$ \\\\\n",
       "\t28 & Monday &  24 March 1902 &  04:21:12 am & 24 & 3 & 1902 & $\\dots$ \\\\\n",
       "\t29 & Tuesday &  22 April 1902 &  07:49:30 pm & 22 & 4 & 1902 & $\\dots$ \\\\\n",
       "\t30 & Thursday &  22 May 1902 &  11:46:00 am & 22 & 5 & 1902 & $\\dots$ \\\\\n",
       "\t$\\dots$ & $\\dots$ & $\\dots$ & $\\dots$ & $\\dots$ & $\\dots$ & $\\dots$ &  \\\\\n",
       "\\end{tabular}\n"
      ],
      "text/plain": [
       "\u001b[1m1868×9 DataFrame\u001b[0m\n",
       "\u001b[1m  Row \u001b[0m│\u001b[1m day_of_week \u001b[0m\u001b[1m date_new           \u001b[0m\u001b[1m time_new     \u001b[0m\u001b[1m day       \u001b[0m\u001b[1m month     \u001b[0m\u001b[1m y\u001b[0m ⋯\n",
       "\u001b[1m      \u001b[0m│\u001b[90m String15    \u001b[0m\u001b[90m String31           \u001b[0m\u001b[90m String31     \u001b[0m\u001b[90m SubStrin… \u001b[0m\u001b[90m SubStrin… \u001b[0m\u001b[90m S\u001b[0m ⋯\n",
       "──────┼─────────────────────────────────────────────────────────────────────────\n",
       "    1 │ Monday        15 January 1900     08:07:30 pm  15         1          1 ⋯\n",
       "    2 │ Wednesday     14 February 1900    02:50:12 pm  14         2          1\n",
       "    3 │ Friday        16 March 1900       09:11:48 am  16         3          1\n",
       "    4 │ Sunday        15 April 1900       02:02:06 am  15         4          1\n",
       "    5 │ Monday        14 May 1900         04:36:36 pm  14         5          1 ⋯\n",
       "    6 │ Wednesday     13 June 1900        04:38:36 am  13         6          1\n",
       "    7 │ Thursday      12 July 1900        02:21:54 pm  12         7          1\n",
       "    8 │ Friday        10 August 1900      10:29:54 pm  10         8          1\n",
       "    9 │ Sunday        9 September 1900    06:06:06 am  9          9          1 ⋯\n",
       "   10 │ Monday        8 October 1900      02:18:06 pm  8          10         1\n",
       "   11 │ Tuesday       6 November 1900     11:59:36 pm  6          11         1\n",
       "  ⋮   │      ⋮               ⋮                ⋮            ⋮          ⋮        ⋱\n",
       " 1859 │ Thursday      7 April 2050        09:12:12 am  7          4          2\n",
       " 1860 │ Friday        6 May 2050          11:26:12 pm  6          5          2 ⋯\n",
       " 1861 │ Sunday        5 June 2050         10:51:12 am  5          6          2\n",
       " 1862 │ Monday        4 July 2050         07:51:00 pm  4          7          2\n",
       " 1863 │ Wednesday     3 August 2050       03:20:30 am  3          8          2\n",
       " 1864 │ Thursday      1 September 2050    10:30:54 am  1          9          2 ⋯\n",
       " 1865 │ Friday        30 September 2050   06:31:48 pm  30         9          2\n",
       " 1866 │ Sunday        30 October 2050     04:16:00 am  30         10         2\n",
       " 1867 │ Monday        28 November 2050    04:09:48 pm  28         11         2\n",
       " 1868 │ Wednesday     28 December 2050    06:15:36 am  28         12         2 ⋯\n",
       "\u001b[36m                                                 4 columns and 1847 rows omitted\u001b[0m"
      ]
     },
     "execution_count": 35,
     "metadata": {},
     "output_type": "execute_result"
    }
   ],
   "source": [
    "make_data()"
   ]
  },
  {
   "cell_type": "code",
   "execution_count": 38,
   "id": "8b3c98db-4064-431a-bf60-bc1db8ba8616",
   "metadata": {},
   "outputs": [
    {
     "data": {
      "text/html": [
       "<div class=\"data-frame\"><p>12 rows × 9 columns (omitted printing of 3 columns)</p><table class=\"data-frame\"><thead><tr><th></th><th>day_of_week</th><th>date_new</th><th>time_new</th><th>day</th><th>month</th><th>year</th></tr><tr><th></th><th title=\"String15\">String15</th><th title=\"String31\">String31</th><th title=\"String31\">String31</th><th title=\"SubString{String31}\">SubStrin…</th><th title=\"SubString{String31}\">SubStrin…</th><th title=\"SubString{String31}\">SubStrin…</th></tr></thead><tbody><tr><th>1</th><td>Tuesday</td><td> 18 January 2022</td><td> 12:48:30 am</td><td>18</td><td>1</td><td>2022</td></tr><tr><th>2</th><td>Wednesday</td><td> 16 February 2022</td><td> 05:56:30 pm</td><td>16</td><td>2</td><td>2022</td></tr><tr><th>3</th><td>Friday</td><td> 18 March 2022</td><td> 08:17:36 am</td><td>18</td><td>3</td><td>2022</td></tr><tr><th>4</th><td>Saturday</td><td> 16 April 2022</td><td> 08:55:06 pm</td><td>16</td><td>4</td><td>2022</td></tr><tr><th>5</th><td>Monday</td><td> 16 May 2022</td><td> 06:14:12 am</td><td>16</td><td>5</td><td>2022</td></tr><tr><th>6</th><td>Tuesday</td><td> 14 June 2022</td><td> 01:51:48 pm</td><td>14</td><td>6</td><td>2022</td></tr><tr><th>7</th><td>Wednesday</td><td> 13 July 2022</td><td> 08:37:42 pm</td><td>13</td><td>7</td><td>2022</td></tr><tr><th>8</th><td>Friday</td><td> 12 August 2022</td><td> 03:35:48 am</td><td>12</td><td>8</td><td>2022</td></tr><tr><th>9</th><td>Saturday</td><td> 10 September 2022</td><td> 11:59:06 am</td><td>10</td><td>9</td><td>2022</td></tr><tr><th>10</th><td>Sunday</td><td> 9 October 2022</td><td> 10:55:00 pm</td><td>9</td><td>10</td><td>2022</td></tr><tr><th>11</th><td>Tuesday</td><td> 8 November 2022</td><td> 12:02:12 pm</td><td>8</td><td>11</td><td>2022</td></tr><tr><th>12</th><td>Thursday</td><td> 8 December 2022</td><td> 05:08:12 am</td><td>8</td><td>12</td><td>2022</td></tr></tbody></table></div>"
      ],
      "text/latex": [
       "\\begin{tabular}{r|ccccccc}\n",
       "\t& day\\_of\\_week & date\\_new & time\\_new & day & month & year & \\\\\n",
       "\t\\hline\n",
       "\t& String15 & String31 & String31 & SubStrin… & SubStrin… & SubStrin… & \\\\\n",
       "\t\\hline\n",
       "\t1 & Tuesday &  18 January 2022 &  12:48:30 am & 18 & 1 & 2022 & $\\dots$ \\\\\n",
       "\t2 & Wednesday &  16 February 2022 &  05:56:30 pm & 16 & 2 & 2022 & $\\dots$ \\\\\n",
       "\t3 & Friday &  18 March 2022 &  08:17:36 am & 18 & 3 & 2022 & $\\dots$ \\\\\n",
       "\t4 & Saturday &  16 April 2022 &  08:55:06 pm & 16 & 4 & 2022 & $\\dots$ \\\\\n",
       "\t5 & Monday &  16 May 2022 &  06:14:12 am & 16 & 5 & 2022 & $\\dots$ \\\\\n",
       "\t6 & Tuesday &  14 June 2022 &  01:51:48 pm & 14 & 6 & 2022 & $\\dots$ \\\\\n",
       "\t7 & Wednesday &  13 July 2022 &  08:37:42 pm & 13 & 7 & 2022 & $\\dots$ \\\\\n",
       "\t8 & Friday &  12 August 2022 &  03:35:48 am & 12 & 8 & 2022 & $\\dots$ \\\\\n",
       "\t9 & Saturday &  10 September 2022 &  11:59:06 am & 10 & 9 & 2022 & $\\dots$ \\\\\n",
       "\t10 & Sunday &  9 October 2022 &  10:55:00 pm & 9 & 10 & 2022 & $\\dots$ \\\\\n",
       "\t11 & Tuesday &  8 November 2022 &  12:02:12 pm & 8 & 11 & 2022 & $\\dots$ \\\\\n",
       "\t12 & Thursday &  8 December 2022 &  05:08:12 am & 8 & 12 & 2022 & $\\dots$ \\\\\n",
       "\\end{tabular}\n"
      ],
      "text/plain": [
       "\u001b[1m12×9 DataFrame\u001b[0m\n",
       "\u001b[1m Row \u001b[0m│\u001b[1m day_of_week \u001b[0m\u001b[1m date_new           \u001b[0m\u001b[1m time_new     \u001b[0m\u001b[1m day       \u001b[0m\u001b[1m month     \u001b[0m\u001b[1m ye\u001b[0m ⋯\n",
       "\u001b[1m     \u001b[0m│\u001b[90m String15    \u001b[0m\u001b[90m String31           \u001b[0m\u001b[90m String31     \u001b[0m\u001b[90m SubStrin… \u001b[0m\u001b[90m SubStrin… \u001b[0m\u001b[90m Su\u001b[0m ⋯\n",
       "─────┼──────────────────────────────────────────────────────────────────────────\n",
       "   1 │ Tuesday       18 January 2022     12:48:30 am  18         1          20 ⋯\n",
       "   2 │ Wednesday     16 February 2022    05:56:30 pm  16         2          20\n",
       "   3 │ Friday        18 March 2022       08:17:36 am  18         3          20\n",
       "   4 │ Saturday      16 April 2022       08:55:06 pm  16         4          20\n",
       "   5 │ Monday        16 May 2022         06:14:12 am  16         5          20 ⋯\n",
       "   6 │ Tuesday       14 June 2022        01:51:48 pm  14         6          20\n",
       "   7 │ Wednesday     13 July 2022        08:37:42 pm  13         7          20\n",
       "   8 │ Friday        12 August 2022      03:35:48 am  12         8          20\n",
       "   9 │ Saturday      10 September 2022   11:59:06 am  10         9          20 ⋯\n",
       "  10 │ Sunday        9 October 2022      10:55:00 pm  9          10         20\n",
       "  11 │ Tuesday       8 November 2022     12:02:12 pm  8          11         20\n",
       "  12 │ Thursday      8 December 2022     05:08:12 am  8          12         20\n",
       "\u001b[36m                                                               4 columns omitted\u001b[0m"
      ]
     },
     "execution_count": 38,
     "metadata": {},
     "output_type": "execute_result"
    }
   ],
   "source": [
    "#filter(:year == 2022)\n",
    "\n",
    "    \n",
    "#equals_year(year:String) = year == 2022\n",
    "\n",
    "filter(:year => equal_year, make_data())"
   ]
  },
  {
   "cell_type": "markdown",
   "id": "53166e29-eed3-4e74-bb0b-e986c34d84ed",
   "metadata": {},
   "source": [
    "### Constructer time object"
   ]
  },
  {
   "cell_type": "code",
   "execution_count": 40,
   "id": "5a9a5785-9dea-4891-8bbe-10759392d724",
   "metadata": {},
   "outputs": [
    {
     "data": {
      "text/plain": [
       "2022-12-08T05:08:12"
      ]
     },
     "execution_count": 40,
     "metadata": {},
     "output_type": "execute_result"
    }
   ],
   "source": [
    "fm_july = DateTime(2022,7,13,20,37,42)\n",
    "fm_aug = DateTime(2022,8,12,03,35,48)\n",
    "fm_sept = DateTime(2022,9,10,11,59,06)\n",
    "fm_oct = DateTime(2022,10,9,22,55,00)\n",
    "fm_nov =DateTime(2022,11,8,12,02,12)\n",
    "fm_dec = DateTime(2022,12,8,5,8,12)"
   ]
  },
  {
   "cell_type": "code",
   "execution_count": null,
   "id": "fe4565e2-aaba-489b-9804-aa90fd0b3658",
   "metadata": {},
   "outputs": [],
   "source": []
  },
  {
   "cell_type": "code",
   "execution_count": null,
   "id": "8b8da9a9-207b-458b-93d0-6d7df3d6aca7",
   "metadata": {},
   "outputs": [],
   "source": []
  },
  {
   "cell_type": "code",
   "execution_count": 44,
   "id": "5e9676e2",
   "metadata": {},
   "outputs": [
    {
     "data": {
      "text/plain": [
       "01:34:00"
      ]
     },
     "execution_count": 44,
     "metadata": {},
     "output_type": "execute_result"
    }
   ],
   "source": [
    "df = select(make_data(), :date_format,:time_new, :C)\n",
    "\n",
    "#arr = df\n",
    "\n",
    "#arr[! :date_and_time]\n",
    "\n",
    "#fm_date = DateTime(2022,6,14,13,51,48,0)\n",
    "#df\n",
    "\n",
    "#format = DateFormat(\"yyyy-mm-dd-HI:MM:SSp)\n",
    "DateTime(\"1900-1-15-08:07:30PM\", \"yyyy-mm-dd-HH:MM:SSp\")\n",
    "\n",
    "dateformat\"Y-m-d H:M:S\"\n",
    "Time(\"1:34am\", \"HH:MMp\")"
   ]
  },
  {
   "cell_type": "code",
   "execution_count": 17,
   "id": "c7f4e90e",
   "metadata": {},
   "outputs": [
    {
     "ename": "LoadError",
     "evalue": "cannot document the following expression:\n\n\" 09:11:48 am\"\n",
     "output_type": "error",
     "traceback": [
      "cannot document the following expression:\n\n\" 09:11:48 am\"\n",
      "",
      "Stacktrace:",
      " [1] error(::String, ::String)",
      "   @ Base .\\error.jl:42",
      " [2] top-level scope",
      "   @ In[17]:11",
      " [3] eval",
      "   @ .\\boot.jl:360 [inlined]",
      " [4] include_string(mapexpr::typeof(REPL.softscope), mod::Module, code::String, filename::String)",
      "   @ Base .\\loading.jl:1116"
     ]
    }
   ],
   "source": [
    "using Dates\n",
    "\n",
    "function _parse_datetime_ampm(ds::String, fmt::DateFormat)::DateTime\n",
    "    m = match(r\"(.*\\d{4}\\s?\\d{1,2}:\\d{2})(\\s?)(AM|PM)?\"i, ds)\n",
    "    dt = DateTime(m.captures[1], fmt) \n",
    "    ampm = m.captures[3]\n",
    "    dt += (ampm != nothing && uppercase(ampm) == \"PM\" && Hour(dt).value != 12) ? Hour(12) : Hour(0)\n",
    "end\n",
    "\n",
    "dx = \" 08:07:30 pm\"\n",
    "\" 02:50:12 pm\"\n",
    "\" 09:11:48 am\"\n",
    "\" 02:02:06 am\"\n",
    "\" 04:36:36 pm\"\n",
    "\" 04:38:36 am\"\n",
    "\" 02:21:54 pm\"\n",
    "\" 10:29:54 pm\"\n",
    "\" 06:06:06 am\"\n",
    "\" 02:18:06 pm\"\n",
    "x = _parse_datetime_ampm.(dx, dateformat\"U d, y H:M\")"
   ]
  },
  {
   "cell_type": "code",
   "execution_count": null,
   "id": "0f5ba3c6",
   "metadata": {},
   "outputs": [],
   "source": [
    "\" 15 January 1900 08:07:30 pm\"\n",
    "\" 14 February 1900 02:50:12 pm\"\n",
    " \" 16 March 1900 09:11:48 am\""
   ]
  },
  {
   "cell_type": "code",
   "execution_count": null,
   "id": "56116b89",
   "metadata": {},
   "outputs": [],
   "source": [
    "fm_date = DateTime(1900,1,15,20,07,30,0)\n",
    "peroid = Dates.Millisecond(2551442777) \n",
    "fm_date + peroid"
   ]
  },
  {
   "cell_type": "code",
   "execution_count": null,
   "id": "9c2ddd89-7748-4e48-8d20-c885829ad3a4",
   "metadata": {},
   "outputs": [],
   "source": [
    "function reduce()\n",
    "    df = make_data()\n",
    "    df[!,:date_and_time]\n",
    "end\n",
    "\n",
    "reduce()\n",
    "\n",
    "#arr = arr['date_and_time']\n",
    "\n",
    "\n",
    "#arr = df[!,:date_and_time]"
   ]
  },
  {
   "cell_type": "code",
   "execution_count": null,
   "id": "7580bed4-4515-4776-b72b-c95497314c8b",
   "metadata": {},
   "outputs": [],
   "source": [
    "df = make_data()\n",
    "\n",
    "subset(df, :year => ByRow(==(\"2023\")))\n",
    "\n",
    "for i in df[!, \"date_format\"]\n",
    "    println(\"$i\")\n",
    "end\n",
    "\n"
   ]
  },
  {
   "cell_type": "code",
   "execution_count": null,
   "id": "9d955aa2-a9f6-49c5-9cca-c18ec49d4c4e",
   "metadata": {},
   "outputs": [],
   "source": [
    "# find full moons in the future\n",
    "#DateTime(2013,7,1,12,30,59,1)\n",
    "import Dates\n",
    "using Dates\n",
    "#13 June 2014\t06:11:30 am\t\n",
    "\n",
    "#DateTime(2014,6,13,06,11,30,0) + Dates.Day(29) + Dates.Hour(12)\n",
    "#DateTime(2022,6,01,51,48,0)\n",
    "    \n",
    "    #14 June 2022\t01:51:48 pm\n",
    "#+ Dates.Minute(42)\n",
    "\n",
    "fm_date = DateTime(2022,6,14,13,51,48,0)\n",
    "peroid = Dates.Millisecond(2551442777) \n",
    "#peroid = Dates.Millisecond(2531550000) \n",
    "#Dates.Day(29) + Dates.Hour(12) + Dates.Minute(42)\n",
    "\n",
    "#fm_date + peroid + peroid + peroid + peroid + peroid\n",
    "\n",
    "year = peroid * 12 \n",
    "\n",
    "decade = year * 10\n",
    "\n",
    "century = decade * 10\n",
    "\n",
    "milen = century * 10\n",
    "\n",
    "year\n",
    "\n",
    "day_stuff = fm_date + (peroid * 10)\n",
    "    #+ peroid + peroid + peroid + peroid\n",
    "#day_stuff.day()\n",
    "\n",
    "#12 July 2014\t01:24:54 pm\n",
    "\n",
    "#Dates.month(day_stuff)\n",
    "Dates.day(day_stuff)"
   ]
  },
  {
   "cell_type": "code",
   "execution_count": null,
   "id": "729ea02d-612f-4eae-9d9a-331d7e5dcbc8",
   "metadata": {},
   "outputs": [],
   "source": [
    "Dates.monthname(day_stuff)"
   ]
  },
  {
   "cell_type": "code",
   "execution_count": null,
   "id": "a75b0df7-d18c-43ea-b844-a6ae328a12a6",
   "metadata": {},
   "outputs": [],
   "source": [
    "DateTime(2014,7,12,13,24,0,0) - DateTime(2014,6,13,06,11,30,0) #+ Dates.Day(29)"
   ]
  },
  {
   "cell_type": "code",
   "execution_count": null,
   "id": "eaaa1989-a500-4d9e-9941-b3e27002834e",
   "metadata": {},
   "outputs": [],
   "source": [
    "#Dates.CompoundPeroid(Dates.Milliseconds(253155000))\n",
    "\n",
    "Dates.canonicalize(Dates.CompoundPeriod(Dates.Millisecond(2531550000))) +"
   ]
  },
  {
   "cell_type": "code",
   "execution_count": null,
   "id": "997d6406-745f-45e8-9515-e7c48b00e923",
   "metadata": {},
   "outputs": [],
   "source": [
    "function freaky_friday()\n",
    "    df = make_data()\n",
    "    fri = subset(df, :day_of_week => ByRow(==(\"Friday\")), :day => ByRow(==(\"13\")))\n",
    "    #sort(fri, :year)\n",
    "    fri\n",
    "end\n",
    "\n",
    "freaky_friday()\n",
    "   "
   ]
  },
  {
   "cell_type": "code",
   "execution_count": null,
   "id": "83e7adf8-357e-4b1b-a51f-126d580980a8",
   "metadata": {},
   "outputs": [],
   "source": [
    "function freaky_friday()\n",
    "    df = make_data()\n",
    "    fri = subset(df, :day_of_week => ByRow(==(\"Friday\")), :day => ByRow(==(\"13\")))\n",
    "    #sort(fri, :year)\n",
    "    fri\n",
    "end\n",
    "\n",
    "freaky_friday()\n",
    "   "
   ]
  },
  {
   "cell_type": "code",
   "execution_count": null,
   "id": "37aea7bb-d41b-4b39-847a-392f9cad60df",
   "metadata": {},
   "outputs": [],
   "source": [
    "df_test = DataFrame(a=1:5, b=7:11)\n",
    "#df_test\n",
    "#filter(:a => != (2), df_test)\n",
    "\n",
    "#subset(df_test, :a => !=(2),:b => !=(7))\n",
    "\n",
    "df2 = DataFrame(a=repeat(1:3, 2), b=1:6)\n",
    "\n",
    "subset(df_test, :a => ByRow(==(1)), :b => ByRow(==(7)))\n",
    "#subset(df2, :a => ByRow(==(1)), :b => ByRow(isodd))"
   ]
  },
  {
   "cell_type": "code",
   "execution_count": null,
   "id": "0c7d5564-0e3b-4193-bb65-9202b52c756f",
   "metadata": {},
   "outputs": [],
   "source": [
    "using Plots\n",
    "using Dates\n",
    "using Distributions\n",
    "\n",
    "dts = today():Year(1):today()+Year(20)\n",
    "vs = rand(Normal(0,1),size(dts,1))\n",
    "plot(dts, vs, label=\"\")\n",
    "plot!(xformatter = x -> Dates.format(Date(Dates.UTD(x)), \"yyyy\"))"
   ]
  },
  {
   "cell_type": "code",
   "execution_count": null,
   "id": "9b52af71-d00c-4151-86f8-4ec9fdd1c0e9",
   "metadata": {},
   "outputs": [],
   "source": [
    "function find_days()\n",
    "    #df = make_data()\n",
    "    #df_fri = filter(:day_of_week => == (\"Friday\"), make_data())\n",
    "    df_fri = filter(:day_of_week => ==(\"Friday\"), make_data())\n",
    "    df_12 = filter(:day => ==(\"12\"), make_data())\n",
    "    df_13 = filter(:day => ==(\"13\"), make_data())\n",
    "    df_14 = filter(:day => ==(\"14\"), make_data())\n",
    "    #append!([df_fri,df_12,df_13,df_14]);\n",
    "    #days = append!([df_12, df_13,df_14])\n",
    "    \n",
    "    #filter(day_of_week => == (\"Friday\"), days)\n",
    "    #ilter(:day_of_week => ==(\"Friday\"), days)\n",
    "    #tmp = filter(:day_of_week => ==(\"Friday\"), make_data())\n",
    "    \n",
    "    #df_14])\n",
    "    df_14\n",
    "        \n",
    "end\n",
    "\n",
    "find_days()"
   ]
  },
  {
   "cell_type": "code",
   "execution_count": null,
   "id": "3552132d-d459-47ea-b3e4-36aae2e1cb96",
   "metadata": {},
   "outputs": [],
   "source": [
    "tmp = filter(:day_of_week => ==(\"Friday\"), find_days())\n",
    "\n",
    "\n",
    "#how many full moons on Friday the 13Th?\n",
    "\n",
    "#tmp = filter(:day_of_week => ==(\"Friday\"), make_data())\n",
    "#tmp2 = filter(:day => ==(\"13\"), make_data()) || filter(:day => == (\"12\"),make_data())\n",
    "#tmp3 = filter(:day => == (\"12\"),make_data())\n",
    "    \n",
    "#filter(:day => ==(\"13\"), tmp,tmp2)\n",
    "#df"
   ]
  },
  {
   "cell_type": "code",
   "execution_count": null,
   "id": "9b6af045-0a09-4c5c-977f-63d74dabe276",
   "metadata": {},
   "outputs": [],
   "source": [
    "\n",
    "\n",
    "function fri_13(day_of_week, day)::Bool\n",
    "    weekday = A(day, '13') || B(day, '12')\n",
    "    isfri = C(day_of_week, 'Friday')\n",
    "    weekday && isfri\n",
    "    \n",
    "end\n",
    "        \n",
    "\n",
    "    "
   ]
  },
  {
   "cell_type": "code",
   "execution_count": null,
   "id": "54385239-5291-4727-bea8-a895cbfa2c0e",
   "metadata": {},
   "outputs": [],
   "source": [
    "#function complex_filter(day, day_of_week)::Bool\n",
    "interesting_day = startswith(day, '12') || startswith(day, '13')\n",
    "    #interesting_fri = isfri(day_of_week, 'Friday')\n",
    "    #interesting_day && interesting_fri\n",
    "#end     "
   ]
  },
  {
   "cell_type": "code",
   "execution_count": null,
   "id": "af6b52db-04db-4e04-b27c-28d3a58d7e0a",
   "metadata": {},
   "outputs": [],
   "source": [
    "function make_full()\n",
    "    df = CSV.File(\"full_moon.csv\") |> DataFrame\n",
    "    df = rename!(df, :Time => :time_new)\n",
    "    df = rename(df, :Date => :date_new)\n",
    "    df = rename(df, :Day => :day_of_week)\n",
    "    #split columns\n",
    "    tmp = split.(df.date_new)\n",
    "    insertcols!(df, [n => getindex.(tmp, i) for (i, n) in\n",
    "                        enumerate([:day, :month, :year])]...)\n",
    "    \n",
    "end\n",
    "\n",
    "make_full()\n",
    "    "
   ]
  }
 ],
 "metadata": {
  "kernelspec": {
   "display_name": "Julia 1.6.6",
   "language": "julia",
   "name": "julia-1.6"
  },
  "language_info": {
   "file_extension": ".jl",
   "mimetype": "application/julia",
   "name": "julia",
   "version": "1.6.6"
  }
 },
 "nbformat": 4,
 "nbformat_minor": 5
}
